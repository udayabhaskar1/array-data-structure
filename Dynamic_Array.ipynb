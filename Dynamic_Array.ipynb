{
 "cells": [
  {
   "cell_type": "code",
   "execution_count": 1,
   "metadata": {},
   "outputs": [],
   "source": [
    "import math\n",
    "import os\n",
    "import sys\n",
    "import random\n",
    "import re"
   ]
  },
  {
   "cell_type": "code",
   "execution_count": 2,
   "metadata": {},
   "outputs": [],
   "source": [
    "#\n",
    "# Complete the 'dynamicArray' function below.\n",
    "#\n",
    "# The function is expected to return an INTEGER_ARRAY.\n",
    "# The function accepts following parameters:\n",
    "#  1. INTEGER n\n",
    "#  2. 2D_INTEGER_ARRAY queries\n",
    "#"
   ]
  },
  {
   "cell_type": "code",
   "execution_count": 38,
   "metadata": {},
   "outputs": [
    {
     "name": "stdout",
     "output_type": "stream",
     "text": [
      "2 5\n",
      "1 10000000000000023 123333332\n",
      "1 2333333333333323 233333333\n",
      "1 3444444444444444 3444444444\n",
      "1 3444444444444 43333333333333\n",
      "2 455555555555 6555555555555\n",
      "[[1, 10000000000000023, 123333332], [1, 2333333333333323, 233333333], [1, 3444444444444444, 3444444444], [1, 3444444444444, 43333333333333], [2, 455555555555, 6555555555555]]\n",
      "[233333333]\n"
     ]
    }
   ],
   "source": [
    "def dynamicArray(n, queries):\n",
    "    \n",
    "    seqList = [ [] for _ in range(n) ]\n",
    "    result = []\n",
    "    \n",
    "    lastAnswer = 0\n",
    "    \n",
    "    for i in range(len(queries)):\n",
    "        \n",
    "        t = queries[i][0]\n",
    "        x = queries[i][1]\n",
    "        y = queries[i][2]\n",
    "        \n",
    "        if t == 1:\n",
    "            seq = (x+lastAnswer)%n\n",
    "            seqList[seq].append(y)\n",
    "        elif t == 2:\n",
    "            seq = (x+lastAnswer)%n\n",
    "            seq_val = y % len(seqList[seq])            \n",
    "            lastAnswer = seqList[seq][seq_val]\n",
    "            result.append(lastAnswer)\n",
    "    \n",
    "    return result\n",
    "\n",
    "if __name__ == '__main__':\n",
    "    \n",
    "    first_multiple_input = input().rstrip().split()\n",
    "    \n",
    "    n = int(first_multiple_input[0])\n",
    "    \n",
    "    q = int(first_multiple_input[1])\n",
    "    \n",
    "    queries = []\n",
    "    \n",
    "    for _ in range(q):\n",
    "        queries.append(list(map(int, input().rstrip().split())))\n",
    "        \n",
    "    print(queries)\n",
    "        \n",
    "    result = dynamicArray(n, queries)\n",
    "    print(result)\n",
    "    \n",
    "    "
   ]
  },
  {
   "cell_type": "code",
   "execution_count": 40,
   "metadata": {},
   "outputs": [
    {
     "name": "stdout",
     "output_type": "stream",
     "text": [
      "2 5\n",
      "1 0 2\n",
      "1 1 3\n",
      "1 2 4\n",
      "2 1 0\n",
      "2 1 3\n",
      "[[1, 0, 2], [1, 1, 3], [1, 2, 4], [2, 1, 0], [2, 1, 3]]\n",
      "[3, 4]\n"
     ]
    }
   ],
   "source": [
    "def dynamicArray(n, queries):\n",
    "    \n",
    "    seqList = [ [] for _ in range(n) ]\n",
    "    result = []\n",
    "    \n",
    "    lastAnswer = 0\n",
    "    \n",
    "    for i in range(len(queries)):\n",
    "        \n",
    "        t, x, y = queries[i]\n",
    "        \n",
    "        if t == 1:\n",
    "            seq = (x+lastAnswer)%n\n",
    "            seqList[seq].append(y)\n",
    "        elif t == 2:\n",
    "            seq = (x+lastAnswer)%n\n",
    "            seq_val = y % len(seqList[seq])            \n",
    "            lastAnswer = seqList[seq][seq_val]\n",
    "            result.append(lastAnswer)\n",
    "    \n",
    "    return result\n",
    "\n",
    "if __name__ == '__main__':\n",
    "    \n",
    "    first_multiple_input = input().rstrip().split()\n",
    "    \n",
    "    n = int(first_multiple_input[0])\n",
    "    \n",
    "    q = int(first_multiple_input[1])\n",
    "    \n",
    "    queries = []\n",
    "    \n",
    "    for _ in range(q):\n",
    "        queries.append(list(map(int, input().rstrip().split())))\n",
    "        \n",
    "    print(queries)\n",
    "        \n",
    "    result = dynamicArray(n, queries)\n",
    "    print(result)\n",
    "    "
   ]
  },
  {
   "cell_type": "code",
   "execution_count": null,
   "metadata": {},
   "outputs": [],
   "source": []
  },
  {
   "cell_type": "code",
   "execution_count": 30,
   "metadata": {},
   "outputs": [
    {
     "data": {
      "text/plain": [
       "[[], []]"
      ]
     },
     "execution_count": 30,
     "metadata": {},
     "output_type": "execute_result"
    }
   ],
   "source": [
    "[ [] for _ in range(n) ]"
   ]
  },
  {
   "cell_type": "code",
   "execution_count": null,
   "metadata": {},
   "outputs": [],
   "source": []
  }
 ],
 "metadata": {
  "kernelspec": {
   "display_name": "Python 3",
   "language": "python",
   "name": "python3"
  },
  "language_info": {
   "codemirror_mode": {
    "name": "ipython",
    "version": 3
   },
   "file_extension": ".py",
   "mimetype": "text/x-python",
   "name": "python",
   "nbconvert_exporter": "python",
   "pygments_lexer": "ipython3",
   "version": "3.7.4"
  }
 },
 "nbformat": 4,
 "nbformat_minor": 2
}
