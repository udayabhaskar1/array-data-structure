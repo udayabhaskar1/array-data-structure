{
 "cells": [
  {
   "cell_type": "code",
   "execution_count": 7,
   "metadata": {},
   "outputs": [],
   "source": [
    "A = [2,2,3,5,1,8,5,100,4]\n",
    "\n",
    "def thirdMaxNum(A):\n",
    "    n = len(A)\n",
    "    first_max = 0\n",
    "    second_max = 0\n",
    "    third_max = 0\n",
    "    \n",
    "    for num in A:\n",
    "        \n",
    "        if num == first_max or num == second_max or num == third_max:\n",
    "            continue\n",
    "        \n",
    "        if num > first_max:\n",
    "            third_max = second_max\n",
    "            second_max = first_max\n",
    "            first_max = num\n",
    "        elif num > second_max:\n",
    "            third_max = second_max\n",
    "            second_max = num\n",
    "        elif num > third_max:\n",
    "            third_max = num\n",
    "    \n",
    "    if third_max == 0:\n",
    "        return first_max\n",
    "    \n",
    "    return third_max\n",
    "            \n"
   ]
  },
  {
   "cell_type": "code",
   "execution_count": 8,
   "metadata": {},
   "outputs": [
    {
     "data": {
      "text/plain": [
       "5"
      ]
     },
     "execution_count": 8,
     "metadata": {},
     "output_type": "execute_result"
    }
   ],
   "source": [
    "p = thirdMaxNum(A)\n",
    "p"
   ]
  },
  {
   "cell_type": "code",
   "execution_count": null,
   "metadata": {},
   "outputs": [],
   "source": []
  }
 ],
 "metadata": {
  "kernelspec": {
   "display_name": "Python 3",
   "language": "python",
   "name": "python3"
  },
  "language_info": {
   "codemirror_mode": {
    "name": "ipython",
    "version": 3
   },
   "file_extension": ".py",
   "mimetype": "text/x-python",
   "name": "python",
   "nbconvert_exporter": "python",
   "pygments_lexer": "ipython3",
   "version": "3.7.4"
  }
 },
 "nbformat": 4,
 "nbformat_minor": 2
}
