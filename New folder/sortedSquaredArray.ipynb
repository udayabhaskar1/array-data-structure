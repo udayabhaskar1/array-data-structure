{
 "cells": [
  {
   "cell_type": "code",
   "execution_count": 41,
   "metadata": {},
   "outputs": [],
   "source": [
    "def sortedSquaredarray(A):\n",
    "    \"\"\"A is the array, n is the length of A\"\"\"\n",
    "    n = len(A)\n",
    "    new_array = [None] * n\n",
    "    \n",
    "    left = 0\n",
    "    right = n-1\n",
    "    i = 0\n",
    "    \n",
    "    while i < n:\n",
    "        if abs(left) < abs(right):\n",
    "            new_array[right] = A[right] ** 2\n",
    "            right -= 1\n",
    "        else:\n",
    "            new_array[right] = A[left] ** 2\n",
    "            print(A[left])\n",
    "            left += 1\n",
    "        i += 1\n",
    "            \n",
    "    return new_array\n",
    "            \n",
    "            "
   ]
  },
  {
   "cell_type": "code",
   "execution_count": 42,
   "metadata": {},
   "outputs": [
    {
     "name": "stdout",
     "output_type": "stream",
     "text": [
      "-4\n"
     ]
    }
   ],
   "source": [
    "A = [-4,-3,-2,-1,1,2,3,25]\n",
    "\n",
    "res = sortedSquaredarray(A)\n"
   ]
  },
  {
   "cell_type": "code",
   "execution_count": 43,
   "metadata": {},
   "outputs": [
    {
     "data": {
      "text/plain": [
       "[16, 9, 4, 1, 1, 4, 9, 625]"
      ]
     },
     "execution_count": 43,
     "metadata": {},
     "output_type": "execute_result"
    }
   ],
   "source": [
    "res"
   ]
  },
  {
   "cell_type": "code",
   "execution_count": 55,
   "metadata": {},
   "outputs": [],
   "source": [
    "def sortedSquaredarray2(A):\n",
    "    \"\"\"A is the array, n is the length of A\"\"\"\n",
    "    n = len(A)\n",
    "    new_array = [None] * n\n",
    "    \n",
    "    left = 0\n",
    "    right = n-1\n",
    "    #i = 0\n",
    "    \n",
    "    for i in range(n):\n",
    "        if abs(left) < abs(right):\n",
    "            new_array[right] = A[right] ** 2\n",
    "            right -= 1\n",
    "        else:\n",
    "            new_array[right] = A[left] ** 2            \n",
    "            left += 1\n",
    "        #i += 1\n",
    "            \n",
    "    return new_array"
   ]
  },
  {
   "cell_type": "code",
   "execution_count": 56,
   "metadata": {},
   "outputs": [
    {
     "data": {
      "text/plain": [
       "[16, 9, 4, 1, 1, 4, 9, 625]"
      ]
     },
     "execution_count": 56,
     "metadata": {},
     "output_type": "execute_result"
    }
   ],
   "source": [
    "A = [-4,-3,-2,-1,1,2,3,25]\n",
    "\n",
    "res = sortedSquaredarray2(A)\n",
    "\n",
    "res\n"
   ]
  },
  {
   "cell_type": "code",
   "execution_count": null,
   "metadata": {},
   "outputs": [],
   "source": []
  },
  {
   "cell_type": "code",
   "execution_count": null,
   "metadata": {},
   "outputs": [],
   "source": []
  }
 ],
 "metadata": {
  "kernelspec": {
   "display_name": "Python 3",
   "language": "python",
   "name": "python3"
  },
  "language_info": {
   "codemirror_mode": {
    "name": "ipython",
    "version": 3
   },
   "file_extension": ".py",
   "mimetype": "text/x-python",
   "name": "python",
   "nbconvert_exporter": "python",
   "pygments_lexer": "ipython3",
   "version": "3.7.4"
  }
 },
 "nbformat": 4,
 "nbformat_minor": 2
}
