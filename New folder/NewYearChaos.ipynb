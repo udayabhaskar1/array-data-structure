{
 "cells": [
  {
   "cell_type": "code",
   "execution_count": 1,
   "metadata": {},
   "outputs": [
    {
     "name": "stdout",
     "output_type": "stream",
     "text": [
      "3\n"
     ]
    }
   ],
   "source": [
    "A = [2,1,5,3,4]\n",
    "n = len(A)\n",
    "b = 0\n",
    "\n",
    "for i in range(n):\n",
    "    if A[i] == i+1:\n",
    "        b += 0\n",
    "    elif A[i] == i+2:\n",
    "        b += 1\n",
    "    elif A[i] == i+3:\n",
    "        b += 2\n",
    "    elif A[i] > i+3:\n",
    "        print(\"Too Chaotic\")\n",
    "        break\n",
    "print(b)\n",
    "        "
   ]
  },
  {
   "cell_type": "code",
   "execution_count": 2,
   "metadata": {},
   "outputs": [],
   "source": [
    "def minimumBribes(Q):\n",
    "    #\n",
    "    # initialize the number of moves\n",
    "    moves = 0 \n",
    "    #\n",
    "    # decrease Q by 1 to make index-matching more intuitive\n",
    "    # so that our values go from 0 to N-1, just like our\n",
    "    # indices.  (Not necessary but makes it easier to\n",
    "    # understand.)\n",
    "    Q = [P-1 for P in Q]\n",
    "    #\n",
    "    # Loop through each person (P) in the queue (Q)\n",
    "    for i,P in enumerate(Q):\n",
    "        # i is the current position of P, while P is the\n",
    "        # original position of P.\n",
    "        #\n",
    "        # First check if any P is more than two ahead of \n",
    "        # its original position\n",
    "        if P - i > 2:\n",
    "            print(\"Too chaotic\")\n",
    "            return\n",
    "        #\n",
    "        # From here on out, we don't care if P has moved\n",
    "        # forwards, it is better to count how many times\n",
    "        # P has RECEIVED a bribe, by looking at who is\n",
    "        # ahead of P.  P's original position is the value\n",
    "        # of P.\n",
    "        # Anyone who bribed P cannot get to higher than\n",
    "        # one position in front if P's original position,\n",
    "        # so we need to look from one position in front\n",
    "        # of P's original position to one in front of P's\n",
    "        # current position, and see how many of those \n",
    "        # positions in Q contain a number large than P.\n",
    "        # In other words we will look from P-1 to i-1,\n",
    "        # which in Python is range(P-1,i-1+1), or simply\n",
    "        # range(P-1,i).  To make sure we don't try an\n",
    "        # index less than zero, replace P-1 with\n",
    "        # max(P-1,0)\n",
    "        for j in range(max(P-1,0),i):\n",
    "            if Q[j] > P:\n",
    "                moves += 1\n",
    "    print(moves)"
   ]
  },
  {
   "cell_type": "code",
   "execution_count": 3,
   "metadata": {},
   "outputs": [],
   "source": [
    "q = [2,1,5,3,4]\n",
    "q = [p-1 for p in q]"
   ]
  },
  {
   "cell_type": "code",
   "execution_count": 4,
   "metadata": {},
   "outputs": [
    {
     "data": {
      "text/plain": [
       "[1, 0, 4, 2, 3]"
      ]
     },
     "execution_count": 4,
     "metadata": {},
     "output_type": "execute_result"
    }
   ],
   "source": [
    "q"
   ]
  },
  {
   "cell_type": "code",
   "execution_count": 5,
   "metadata": {},
   "outputs": [
    {
     "name": "stdout",
     "output_type": "stream",
     "text": [
      "0 1\n",
      "1 0\n",
      "2 4\n",
      "3 2\n",
      "4 3\n"
     ]
    }
   ],
   "source": [
    "for i, p in enumerate(q):\n",
    "    if (p-i) > 2:\n",
    "        print('Too Chaotic')\n",
    "        return\n",
    "    for j in range(max(p-1,0),i):\n",
    "        if q[j] > p:\n",
    "            moves += 1\n",
    "    "
   ]
  },
  {
   "cell_type": "code",
   "execution_count": null,
   "metadata": {},
   "outputs": [],
   "source": []
  }
 ],
 "metadata": {
  "kernelspec": {
   "display_name": "Python 3",
   "language": "python",
   "name": "python3"
  },
  "language_info": {
   "codemirror_mode": {
    "name": "ipython",
    "version": 3
   },
   "file_extension": ".py",
   "mimetype": "text/x-python",
   "name": "python",
   "nbconvert_exporter": "python",
   "pygments_lexer": "ipython3",
   "version": "3.7.4"
  }
 },
 "nbformat": 4,
 "nbformat_minor": 2
}
