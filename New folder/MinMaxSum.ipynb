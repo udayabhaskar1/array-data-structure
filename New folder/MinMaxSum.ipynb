{
 "cells": [
  {
   "cell_type": "code",
   "execution_count": 6,
   "metadata": {},
   "outputs": [
    {
     "name": "stdout",
     "output_type": "stream",
     "text": [
      "1 2 3 4 5\n",
      "10 14\n",
      "0.06611359999999422\n"
     ]
    }
   ],
   "source": [
    "import timeit\n",
    "\n",
    "def miniMaxSum(arr):\n",
    "    \n",
    "    min_arr = min(arr)\n",
    "    max_arr = max(arr)\n",
    "    \n",
    "    min_sum = sum(arr) - max_arr\n",
    "    max_sum = sum(arr) - min_arr\n",
    "    \n",
    "    print(str(min_sum) + ' ' + str(max_sum))\n",
    "\n",
    "if __name__ == '__main__':\n",
    "    arr = list(map(int, input().rstrip().split()))\n",
    "\n",
    "    miniMaxSum(arr)\n",
    "    \n",
    "    print(timeit.timeit('miniMaxSum', globals=globals()))"
   ]
  },
  {
   "cell_type": "markdown",
   "metadata": {},
   "source": [
    "### Big O Analysis\n"
   ]
  },
  {
   "cell_type": "code",
   "execution_count": 4,
   "metadata": {},
   "outputs": [
    {
     "name": "stdout",
     "output_type": "stream",
     "text": [
      "3.663186900000028\n",
      "3.472095500000023\n",
      "3.665840600000024\n"
     ]
    }
   ],
   "source": [
    "import random\n",
    "import timeit\n",
    "import math\n",
    "\n",
    "def f(arr):\n",
    "    \"\"\"\n",
    "    O(nlogn + 2n)\n",
    "    \"\"\"\n",
    "    arr = sorted(arr)\n",
    "    return (sum(arr[0:4]),sum(arr[1:5]))\n",
    "\n",
    "def g(arr):\n",
    "    \"\"\"\n",
    "    O(3n)\n",
    "    \"\"\"\n",
    "    asum = sum(arr)\n",
    "    return (asum-(max(arr))), (asum-(min(arr)))\n",
    "\n",
    "def h(arr):\n",
    "    \"\"\"\n",
    "    O(n)\n",
    "    \"\"\"\n",
    "    amin = math.inf\n",
    "    amax = -math.inf\n",
    "    asum = 0\n",
    "    for a in arr:\n",
    "        if a < amin: amin = a\n",
    "        if a > amax: amax = a\n",
    "        asum += a\n",
    "    return (asum-amax,asum-amin)\n",
    "\n",
    "random.seed()\n",
    "arr = list(random.sample(range(10**9),5))\n",
    "\n",
    "print(timeit.timeit('f(arr)', globals=globals()))\n",
    "print(timeit.timeit('g(arr)', globals=globals()))\n",
    "print(timeit.timeit('h(arr)', globals=globals()))"
   ]
  },
  {
   "cell_type": "code",
   "execution_count": 7,
   "metadata": {},
   "outputs": [],
   "source": [
    "import math\n"
   ]
  },
  {
   "cell_type": "code",
   "execution_count": 9,
   "metadata": {},
   "outputs": [
    {
     "data": {
      "text/plain": [
       "-inf"
      ]
     },
     "execution_count": 9,
     "metadata": {},
     "output_type": "execute_result"
    }
   ],
   "source": [
    "x = -math.inf\n",
    "x"
   ]
  },
  {
   "cell_type": "code",
   "execution_count": null,
   "metadata": {},
   "outputs": [],
   "source": []
  }
 ],
 "metadata": {
  "kernelspec": {
   "display_name": "Python 3",
   "language": "python",
   "name": "python3"
  },
  "language_info": {
   "codemirror_mode": {
    "name": "ipython",
    "version": 3
   },
   "file_extension": ".py",
   "mimetype": "text/x-python",
   "name": "python",
   "nbconvert_exporter": "python",
   "pygments_lexer": "ipython3",
   "version": "3.7.4"
  }
 },
 "nbformat": 4,
 "nbformat_minor": 2
}
