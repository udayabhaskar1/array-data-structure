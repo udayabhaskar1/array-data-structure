{
 "cells": [
  {
   "cell_type": "raw",
   "metadata": {},
   "source": [
    "Input: [3, 3, 2, 1, 1, 2, 1]\n",
    "Output: [1, 1, 2, 2, 3, 3, 3]"
   ]
  },
  {
   "cell_type": "code",
   "execution_count": 3,
   "metadata": {},
   "outputs": [
    {
     "name": "stdout",
     "output_type": "stream",
     "text": [
      "[1, 1, 1, 2, 2, 3, 3]\n"
     ]
    }
   ],
   "source": [
    "nums = [3,3,2,1,1,2,1]\n",
    "count_1 = 0\n",
    "count_2 = 0\n",
    "count_3 = 0\n",
    "\n",
    "for i in range(len(nums)):\n",
    "    if nums[i] == 1:\n",
    "        count_1 += 1\n",
    "    elif nums[i] == 2:\n",
    "        count_2 += 1\n",
    "    elif nums[i] == 3:\n",
    "        count_3 += 1\n",
    "        \n",
    "result = []\n",
    "for i in range(count_1):\n",
    "    result.append(1)\n",
    "for i in range(count_2):\n",
    "    result.append(2)\n",
    "for i in range(count_3):\n",
    "    result.append(3)\n",
    "    \n",
    "print(result)\n"
   ]
  },
  {
   "cell_type": "code",
   "execution_count": null,
   "metadata": {},
   "outputs": [],
   "source": []
  }
 ],
 "metadata": {
  "kernelspec": {
   "display_name": "Python 3",
   "language": "python",
   "name": "python3"
  },
  "language_info": {
   "codemirror_mode": {
    "name": "ipython",
    "version": 3
   },
   "file_extension": ".py",
   "mimetype": "text/x-python",
   "name": "python",
   "nbconvert_exporter": "python",
   "pygments_lexer": "ipython3",
   "version": "3.7.4"
  }
 },
 "nbformat": 4,
 "nbformat_minor": 2
}
