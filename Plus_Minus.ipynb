{
 "cells": [
  {
   "cell_type": "raw",
   "metadata": {},
   "source": [
    "Given an array of integers, calculate the fractions of its elements that are positive, negative, and are zeros. Print the decimal value of each fraction on a new line."
   ]
  },
  {
   "cell_type": "code",
   "execution_count": null,
   "metadata": {},
   "outputs": [],
   "source": [
    "def plusMinus(arr):\n",
    "    \n",
    "    n = len(arr)\n",
    "    pf = nf = zf = 0\n",
    "    \n",
    "    \n",
    "    for i in range(n):\n",
    "        if arr[i] > 0:\n",
    "            pf += 1\n",
    "        elif arr[i] < 0:\n",
    "            nf += 1\n",
    "        else:\n",
    "            zf += 1\n",
    "    \n",
    "    print(\"{:.6f}\".format(pf/n))\n",
    "    print(f'{(nf/n):.6f}')\n",
    "    print(f'{(zf/n):.6f}')\n",
    "            \n",
    "\n",
    "if __name__ == '__main__':\n",
    "    n = int(input())\n",
    "\n",
    "    arr = list(map(int, input().rstrip().split()))\n",
    "\n",
    "    plusMinus(arr)\n"
   ]
  },
  {
   "cell_type": "code",
   "execution_count": null,
   "metadata": {},
   "outputs": [],
   "source": []
  }
 ],
 "metadata": {
  "kernelspec": {
   "display_name": "Python 3",
   "language": "python",
   "name": "python3"
  }
 },
 "nbformat": 4,
 "nbformat_minor": 2
}
