{
 "cells": [
  {
   "cell_type": "code",
   "execution_count": 3,
   "metadata": {},
   "outputs": [
    {
     "name": "stdout",
     "output_type": "stream",
     "text": [
      "[60, 12, 20, 15]\n"
     ]
    }
   ],
   "source": [
    "a = [1,5,3,4]\n",
    "res = [24,12,8,6]\n",
    "\n",
    "tot_product = 1\n",
    "\n",
    "for i in range(len(a)):\n",
    "    tot_product *= a[i]\n",
    "\n",
    "arr_b = []\n",
    "\n",
    "for i in range(len(a)):\n",
    "    arr_b.append(tot_product//a[i])\n",
    "    \n",
    "print(arr_b)"
   ]
  },
  {
   "cell_type": "code",
   "execution_count": null,
   "metadata": {},
   "outputs": [],
   "source": [
    "a = [1,5,3,4]\n",
    "res = [24,12,8,6]\n",
    "n = len(a)\n",
    "arr_b = []\n",
    "arr_c = []\n",
    "\n",
    "i = 0\n",
    "\n",
    "\n",
    "    \n",
    "    \n",
    "    "
   ]
  }
 ],
 "metadata": {
  "kernelspec": {
   "display_name": "Python 3",
   "language": "python",
   "name": "python3"
  },
  "language_info": {
   "codemirror_mode": {
    "name": "ipython",
    "version": 3
   },
   "file_extension": ".py",
   "mimetype": "text/x-python",
   "name": "python",
   "nbconvert_exporter": "python",
   "pygments_lexer": "ipython3",
   "version": "3.7.4"
  }
 },
 "nbformat": 4,
 "nbformat_minor": 2
}
