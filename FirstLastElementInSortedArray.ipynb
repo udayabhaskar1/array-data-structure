{
 "cells": [
  {
   "cell_type": "code",
   "execution_count": 19,
   "metadata": {},
   "outputs": [],
   "source": [
    "Firsthand Trial Version"
   ]
  },
  {
   "cell_type": "code",
   "execution_count": 29,
   "metadata": {},
   "outputs": [
    {
     "name": "stdout",
     "output_type": "stream",
     "text": [
      "[-1, -1, 6, -1, 3, 4]\n"
     ]
    }
   ],
   "source": [
    "nums = [5,7,7,8,8,10]\n",
    "\n",
    "n = len(nums)\n",
    "start = 0\n",
    "end = n-1\n",
    "target = 8\n",
    "output = []\n",
    "#temp_output = []\n",
    "\n",
    "while start < n and start <= end:\n",
    "    if nums[start] != target or nums[end] != target:\n",
    "        output.append(-1)\n",
    "    if nums[start] == target:\n",
    "        output.append(start)        \n",
    "    if nums[end] == target:\n",
    "        output.append(end)        \n",
    "    start += 1\n",
    "    end -= 1 \n",
    "print(output)        "
   ]
  },
  {
   "cell_type": "code",
   "execution_count": 1,
   "metadata": {},
   "outputs": [],
   "source": [
    "nums = [5,7,7,8,8,10,11]\n",
    "target = 8"
   ]
  },
  {
   "cell_type": "raw",
   "metadata": {},
   "source": [
    "Working Solution 1"
   ]
  },
  {
   "cell_type": "code",
   "execution_count": 10,
   "metadata": {},
   "outputs": [
    {
     "name": "stdout",
     "output_type": "stream",
     "text": [
      "{3, 4}\n",
      "[3, 4]\n"
     ]
    }
   ],
   "source": [
    "n = len(nums)\n",
    "i = 0\n",
    "l = []\n",
    "count = 0\n",
    "while i < n:\n",
    "    if nums[i] == target:\n",
    "        l.append(i)\n",
    "    elif nums[i] != target:\n",
    "        l.append(-1)\n",
    "        count += 1\n",
    "    i += 1\n",
    "\n",
    "if count == n:\n",
    "    print([-1,-1])\n",
    "elif count <= n-1:\n",
    "    l = set(l)\n",
    "    if -1 in l:\n",
    "        l.remove(-1)\n",
    "    print(l)\n",
    "    print([min(l),max(l)])\n",
    "\n",
    "        "
   ]
  },
  {
   "cell_type": "raw",
   "metadata": {},
   "source": [
    "Take note of the Sorted Array while resolving the problem"
   ]
  },
  {
   "cell_type": "code",
   "execution_count": 12,
   "metadata": {},
   "outputs": [
    {
     "name": "stdout",
     "output_type": "stream",
     "text": [
      "{3}\n",
      "[3, 3]\n"
     ]
    }
   ],
   "source": [
    "n = len(nums)\n",
    "i = 0\n",
    "l = []\n",
    "count = 0\n",
    "mid = n//2\n",
    "\n",
    "if target < nums[mid]:\n",
    "    for i in range(mid):\n",
    "        if nums[i] == target:\n",
    "            l.append(i)\n",
    "        else:\n",
    "            l.append(-1)\n",
    "            count += 1            \n",
    "elif target > nums[mid]:\n",
    "    for i in range(mid, n):\n",
    "        if nums[i] == target:\n",
    "            l.append(i)\n",
    "        else:\n",
    "            l.append(-1)\n",
    "            count += 1\n",
    "else:    \n",
    "    l.append(mid)\n",
    "\n",
    "if count == n:\n",
    "    print([-1,-1])\n",
    "elif count <= n-1:\n",
    "    l = set(l)\n",
    "    if -1 in l:\n",
    "        l.remove(-1)\n",
    "    print(l)\n",
    "    print([min(l),max(l)])"
   ]
  },
  {
   "cell_type": "code",
   "execution_count": 21,
   "metadata": {},
   "outputs": [],
   "source": [
    "def searchRange(nums, target):\n",
    "    \n",
    "    result = []\n",
    "    result.append(findStartingIndex(nums, target))\n",
    "    result.append(findEndingIndex(nums,target))\n",
    "    \n",
    "    return result\n",
    "\n",
    "def findStartingIndex(nums, target):\n",
    "    \n",
    "    index = -1\n",
    "    \n",
    "    start = 0\n",
    "    end = len(nums) - 1\n",
    "    \n",
    "    while (start <= end):\n",
    "        midpoint = start + (end - start)//2\n",
    "        if nums[midpoint] >= target:\n",
    "            end = midpoint - 1\n",
    "        else:\n",
    "            start = midpoint + 1\n",
    "        \n",
    "        if nums[midpoint] == target:\n",
    "            index = midpoint\n",
    "\n",
    "    return index\n",
    "\n",
    "def findEndingIndex(nums, target):\n",
    "    \n",
    "    index = -1\n",
    "    \n",
    "    start = 0\n",
    "    end = len(nums) - 1\n",
    "    \n",
    "    while (start <= end):\n",
    "        midpoint = start + (end - start)//2\n",
    "        if nums[midpoint] >= target:\n",
    "            start = midpoint + 1\n",
    "        else:\n",
    "            end = midpoint - 1\n",
    "        \n",
    "        if nums[midpoint] == target:\n",
    "            index = midpoint\n",
    "    \n",
    "    \n",
    "    return index"
   ]
  },
  {
   "cell_type": "code",
   "execution_count": 22,
   "metadata": {},
   "outputs": [
    {
     "name": "stdout",
     "output_type": "stream",
     "text": [
      "[3, 3]\n"
     ]
    }
   ],
   "source": [
    "nums = [5,7,7,8,8,10,11]\n",
    "target = 8\n",
    "\n",
    "result = searchRange(nums, target)\n",
    "print(result)"
   ]
  },
  {
   "cell_type": "code",
   "execution_count": null,
   "metadata": {},
   "outputs": [],
   "source": []
  }
 ],
 "metadata": {
  "kernelspec": {
   "display_name": "Python 3",
   "language": "python",
   "name": "python3"
  },
  "language_info": {
   "codemirror_mode": {
    "name": "ipython",
    "version": 3
   },
   "file_extension": ".py",
   "mimetype": "text/x-python",
   "name": "python",
   "nbconvert_exporter": "python",
   "pygments_lexer": "ipython3",
   "version": "3.7.4"
  }
 },
 "nbformat": 4,
 "nbformat_minor": 2
}
