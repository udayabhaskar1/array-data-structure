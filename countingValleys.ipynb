{
 "cells": [
  {
   "cell_type": "code",
   "execution_count": 4,
   "metadata": {},
   "outputs": [],
   "source": [
    "s = 'UDDDUDUU'\n",
    "\n",
    "\n",
    "def countingValleys(s):\n",
    "    tot = 0\n",
    "    num_of_valleys = 0\n",
    "\n",
    "    for i in range(len(s)):\n",
    "        if s[i] == 'U':\n",
    "            if tot == -1:\n",
    "                num_of_valleys += 1\n",
    "            tot += 1\n",
    "        elif s[i] == 'D':\n",
    "            tot -= 1\n",
    "\n",
    "    print(num_of_valleys)   "
   ]
  },
  {
   "cell_type": "code",
   "execution_count": null,
   "metadata": {},
   "outputs": [],
   "source": []
  },
  {
   "cell_type": "code",
   "execution_count": null,
   "metadata": {},
   "outputs": [],
   "source": []
  }
 ],
 "metadata": {
  "kernelspec": {
   "display_name": "Python 3",
   "language": "python",
   "name": "python3"
  },
  "language_info": {
   "codemirror_mode": {
    "name": "ipython",
    "version": 3
   },
   "file_extension": ".py",
   "mimetype": "text/x-python",
   "name": "python",
   "nbconvert_exporter": "python",
   "pygments_lexer": "ipython3",
   "version": "3.7.4"
  }
 },
 "nbformat": 4,
 "nbformat_minor": 2
}
